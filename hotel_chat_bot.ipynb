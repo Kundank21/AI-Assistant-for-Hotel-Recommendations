{
 "cells": [
  {
   "cell_type": "code",
   "execution_count": 1,
   "id": "b7353751",
   "metadata": {},
   "outputs": [],
   "source": [
    "import os\n",
    "os.environ['Qdrant_API_KEY'] = 'xxxxx'\n",
    "os.environ['GROQ_API_KEY'] = 'xxxxxx'"
   ]
  },
  {
   "cell_type": "code",
   "execution_count": 2,
   "id": "c95920b4",
   "metadata": {},
   "outputs": [],
   "source": [
    "import pandas as pd\n",
    "import numpy as np"
   ]
  },
  {
   "cell_type": "code",
   "execution_count": 3,
   "id": "274ecb39",
   "metadata": {},
   "outputs": [],
   "source": [
    "import pandas as pd\n",
    "\n",
    "df = pd.read_csv(\"/Users/kundankumar/Downloads/Bali_Hotel_Review.csv\", delimiter=';')\n"
   ]
  },
  {
   "cell_type": "code",
   "execution_count": 4,
   "id": "6e08af04",
   "metadata": {},
   "outputs": [
    {
     "name": "stdout",
     "output_type": "stream",
     "text": [
      "<class 'pandas.core.frame.DataFrame'>\n",
      "RangeIndex: 5798 entries, 0 to 5797\n",
      "Data columns (total 12 columns):\n",
      " #   Column         Non-Null Count  Dtype  \n",
      "---  ------         --------------  -----  \n",
      " 0   Location       5798 non-null   object \n",
      " 1   Hotel          5798 non-null   object \n",
      " 2   UserID         5798 non-null   object \n",
      " 3   Title          5798 non-null   object \n",
      " 4   Review         5798 non-null   object \n",
      " 5   Rating         5798 non-null   int64  \n",
      " 6   Value          5787 non-null   float64\n",
      " 7   Accessibility  5786 non-null   float64\n",
      " 8   Service        5787 non-null   float64\n",
      " 9   Room           5787 non-null   float64\n",
      " 10  Cleanliness    5787 non-null   float64\n",
      " 11  Sleep Quality  5783 non-null   float64\n",
      "dtypes: float64(6), int64(1), object(5)\n",
      "memory usage: 543.7+ KB\n"
     ]
    }
   ],
   "source": [
    "df.info()"
   ]
  },
  {
   "cell_type": "code",
   "execution_count": 5,
   "id": "acb9cabf",
   "metadata": {},
   "outputs": [],
   "source": [
    "import pandas as pd\n",
    "\n",
    "# Function to format each row into a single string\n",
    "def format_row(row):\n",
    "    return (\n",
    "        f\"Location: {row['Location']}, Hotel: {row['Hotel']}, UserID: {row['UserID']}, \"\n",
    "        f\"Title: {row['Title']}, Review: {row['Review']}, Rating: {row['Rating']}, \"\n",
    "        f\"Value: {row['Value']}, Accessibility: {row['Accessibility']}, Service: {row['Service']}, \"\n",
    "        f\"Room: {row['Room']}, Cleanliness: {row['Cleanliness']}, Sleep Quality: {row['Sleep Quality']}\"\n",
    "        \"\\n\\n\".lower()\n",
    "    )\n",
    "\n",
    "# Apply the function to each row and create a new column with the formatted text\n",
    "df['formatted_text'] = df.apply(format_row, axis=1)\n",
    "\n",
    "# Convert the formatted text into a list (or any other format you need)\n",
    "text_data = df['formatted_text'].tolist()\n"
   ]
  },
  {
   "cell_type": "code",
   "execution_count": null,
   "id": "98ef440d",
   "metadata": {},
   "outputs": [],
   "source": [
    "text_data"
   ]
  },
  {
   "cell_type": "code",
   "execution_count": 7,
   "id": "b5cf5347",
   "metadata": {},
   "outputs": [],
   "source": [
    "from random import shuffle\n",
    "sampled_dataset = text_data\n",
    "shuffle(text_data)\n",
    "sampled_dataset = text_data[:800]"
   ]
  },
  {
   "cell_type": "code",
   "execution_count": 9,
   "id": "d4593f8e",
   "metadata": {},
   "outputs": [
    {
     "name": "stderr",
     "output_type": "stream",
     "text": [
      "/opt/anaconda3/lib/python3.11/site-packages/sentence_transformers/cross_encoder/CrossEncoder.py:11: TqdmExperimentalWarning: Using `tqdm.autonotebook.tqdm` in notebook mode. Use `tqdm.tqdm` instead to force console mode (e.g. in jupyter console)\n",
      "  from tqdm.autonotebook import tqdm, trange\n"
     ]
    }
   ],
   "source": [
    "from sentence_transformers import SentenceTransformer\n",
    "model = SentenceTransformer(\"BAAI/bge-large-en-v1.5\")\n"
   ]
  },
  {
   "cell_type": "code",
   "execution_count": 10,
   "id": "5c3d8cf9",
   "metadata": {},
   "outputs": [],
   "source": [
    "vectors = model.encode(sampled_dataset)"
   ]
  },
  {
   "cell_type": "code",
   "execution_count": 11,
   "id": "f6151b72",
   "metadata": {},
   "outputs": [
    {
     "data": {
      "text/plain": [
       "(1024,)"
      ]
     },
     "execution_count": 11,
     "metadata": {},
     "output_type": "execute_result"
    }
   ],
   "source": [
    "vectors[0].shape"
   ]
  },
  {
   "cell_type": "code",
   "execution_count": 12,
   "id": "86d68488",
   "metadata": {},
   "outputs": [],
   "source": [
    "from qdrant_client import QdrantClient\n",
    "from qdrant_client import QdrantClient\n",
    "from qdrant_client.models import Distance, VectorParams\n",
    "\n",
    "client = QdrantClient(\n",
    "    url=\"https://a39527c9-207f-4db4-82b9-6d8039f3c72d.us-east4-0.gcp.cloud.qdrant.io:6333\", \n",
    "    api_key=\"KaqAcYuLeNIvUxWMQJisJrqcm2rERYB381zqbuWWz_0pFxB2rkZ18A\",\n",
    ")"
   ]
  },
  {
   "cell_type": "code",
   "execution_count": 13,
   "id": "b49359eb",
   "metadata": {},
   "outputs": [
    {
     "name": "stderr",
     "output_type": "stream",
     "text": [
      "/var/folders/jh/4_kmjddj2737hhv79vl44jsr0000gn/T/ipykernel_12303/430421355.py:1: DeprecationWarning: `recreate_collection` method is deprecated and will be removed in the future. Use `collection_exists` to check collection existence and `create_collection` instead.\n",
      "  client.recreate_collection(\n"
     ]
    },
    {
     "data": {
      "text/plain": [
       "True"
      ]
     },
     "execution_count": 13,
     "metadata": {},
     "output_type": "execute_result"
    }
   ],
   "source": [
    "client.recreate_collection(\n",
    "    collection_name=\"try_data\",\n",
    "    vectors_config=VectorParams(size=1024, distance=Distance.COSINE),\n",
    ")"
   ]
  },
  {
   "cell_type": "code",
   "execution_count": 15,
   "id": "6d54f760",
   "metadata": {},
   "outputs": [],
   "source": [
    "import os\n",
    "os.environ[\"TOKENIZERS_PARALLELISM\"] = \"false\"\n",
    "\n",
    "client.upload_collection(\n",
    "    collection_name=\"try_data\",\n",
    "    ids=[i for i in range(len(sampled_dataset))],\n",
    "    vectors=vectors,\n",
    "    parallel=4,    \n",
    "    max_retries=3,\n",
    ")\n"
   ]
  },
  {
   "cell_type": "code",
   "execution_count": 16,
   "id": "a1737f4a",
   "metadata": {},
   "outputs": [],
   "source": [
    "from dspy.retrieve.qdrant_rm import QdrantRM\n",
    "qdrant_retriever_model = QdrantRM(\"try_data\", client, k=3)"
   ]
  },
  {
   "cell_type": "code",
   "execution_count": 17,
   "id": "90685da6",
   "metadata": {},
   "outputs": [],
   "source": [
    "import os\n",
    "import dspy\n",
    "\n",
    "\n",
    "# Initialize the GROQ object with the API key\n",
    "llama3 = dspy.GROQ(model='llama3-8b-8192', api_key=os.environ['GROQ_API_KEY'])\n"
   ]
  },
  {
   "cell_type": "code",
   "execution_count": 18,
   "id": "b055075f",
   "metadata": {},
   "outputs": [],
   "source": [
    "dspy.settings.configure(rm=qdrant_retriever_model, lm=llama3)"
   ]
  },
  {
   "cell_type": "code",
   "execution_count": 19,
   "id": "81b0479d",
   "metadata": {},
   "outputs": [],
   "source": [
    "# Define the GenerateAnswer signature for the model\n",
    "class GenerateAnswer(dspy.Signature):\n",
    "    \"\"\"Answer questions with logical factoid answers.\"\"\"\n",
    "    context = dspy.InputField(desc=\"will contain try hotels data of bali matched with the query\")\n",
    "    question = dspy.InputField()\n",
    "    answer = dspy.OutputField(desc=\"an answer between 20 to 30 words\")\n",
    "    reasons = dspy.OutputField(desc=\"reasons for including each hotel in the answer\")\n"
   ]
  },
  {
   "cell_type": "code",
   "execution_count": 20,
   "id": "d3051386",
   "metadata": {},
   "outputs": [],
   "source": [
    "# Define a function to retrieve context\n",
    "def get_context(text):\n",
    "    query_vector = model.encode(text)\n",
    "    hits = client.search(\n",
    "        collection_name=\"try_data\",\n",
    "        query_vector=query_vector,\n",
    "        limit=3\n",
    "    )\n",
    "    s = ''\n",
    "    for x in [sampled_dataset[i.id] for i in hits]:\n",
    "        s = s + x\n",
    "    return s\n"
   ]
  },
  {
   "cell_type": "code",
   "execution_count": 21,
   "id": "3e763ada",
   "metadata": {},
   "outputs": [],
   "source": [
    "# Define RAG module\n",
    "class RAG(dspy.Module):\n",
    "    def __init__(self, num_passages=3):\n",
    "        super().__init__()\n",
    "        self.retrieve = dspy.Retrieve(k=num_passages)\n",
    "        self.generate_answer = dspy.ChainOfThought(GenerateAnswer)\n",
    "\n",
    "    def forward(self, question):\n",
    "        context = get_context(question)\n",
    "        prediction = self.generate_answer(context=context, question=question)\n",
    "        return dspy.Prediction(context=context, answer=prediction.answer)\n",
    "\n",
    "# Initialize RAG module\n",
    "rag = RAG()"
   ]
  },
  {
   "cell_type": "code",
   "execution_count": 22,
   "id": "dabe22ba",
   "metadata": {},
   "outputs": [],
   "source": [
    "class RAG(dspy.Module):\n",
    "    def __init__(self, num_passages=3):\n",
    "        super().__init__()\n",
    "\n",
    "\n",
    "        self.retrieve = dspy.Retrieve(k=num_passages)\n",
    "        self.generate_answer = dspy.ChainOfThought(GenerateAnswer)\n",
    "\n",
    "\n",
    "    def forward(self, question):\n",
    "        context = get_context(question)\n",
    "        prediction = self.generate_answer(context=context, question=question)\n",
    "        return dspy.Prediction(context=context, answer=prediction.answer)"
   ]
  },
  {
   "cell_type": "code",
   "execution_count": 23,
   "id": "9dd9126c",
   "metadata": {},
   "outputs": [],
   "source": [
    "import gradio as gr\n",
    "\n",
    "with gr.Blocks() as demo:\n",
    "    chatbot = gr.Chatbot()\n",
    "    msg = gr.Textbox()\n",
    "    clear = gr.ClearButton([msg, chatbot])\n",
    "   \n",
    "    def respond(query, chat_history):\n",
    "        response = rag(query)\n",
    "        chat_history.append((query, response.answer))\n",
    "        return \"\", chat_history\n",
    "\n",
    "\n",
    "    msg.submit(respond, [msg, chatbot], [msg, chatbot])"
   ]
  },
  {
   "cell_type": "code",
   "execution_count": 24,
   "id": "4a9e2a98",
   "metadata": {},
   "outputs": [
    {
     "name": "stdout",
     "output_type": "stream",
     "text": [
      "Running on local URL:  http://127.0.0.1:7861\n",
      "Running on public URL: https://3e95502ba56e150d6d.gradio.live\n",
      "\n",
      "This share link expires in 72 hours. For free permanent hosting and GPU upgrades, run `gradio deploy` from Terminal to deploy to Spaces (https://huggingface.co/spaces)\n"
     ]
    },
    {
     "data": {
      "text/html": [
       "<div><iframe src=\"https://3e95502ba56e150d6d.gradio.live\" width=\"100%\" height=\"500\" allow=\"autoplay; camera; microphone; clipboard-read; clipboard-write;\" frameborder=\"0\" allowfullscreen></iframe></div>"
      ],
      "text/plain": [
       "<IPython.core.display.HTML object>"
      ]
     },
     "metadata": {},
     "output_type": "display_data"
    },
    {
     "data": {
      "text/plain": []
     },
     "execution_count": 24,
     "metadata": {},
     "output_type": "execute_result"
    }
   ],
   "source": [
    "demo.launch(share=True)"
   ]
  },
  {
   "cell_type": "code",
   "execution_count": null,
   "id": "07ea1a8a",
   "metadata": {},
   "outputs": [],
   "source": []
  }
 ],
 "metadata": {
  "kernelspec": {
   "display_name": "Python 3 (ipykernel)",
   "language": "python",
   "name": "python3"
  },
  "language_info": {
   "codemirror_mode": {
    "name": "ipython",
    "version": 3
   },
   "file_extension": ".py",
   "mimetype": "text/x-python",
   "name": "python",
   "nbconvert_exporter": "python",
   "pygments_lexer": "ipython3",
   "version": "3.11.7"
  }
 },
 "nbformat": 4,
 "nbformat_minor": 5
}
